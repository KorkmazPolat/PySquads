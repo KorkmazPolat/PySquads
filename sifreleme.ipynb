{
 "cells": [
  {
   "cell_type": "code",
   "execution_count": null,
   "metadata": {},
   "outputs": [],
   "source": [
    "pip install cryptography"
   ]
  },
  {
   "cell_type": "code",
   "execution_count": 1,
   "metadata": {},
   "outputs": [],
   "source": [
    "from cryptography.fernet import Fernet\n",
    "\n",
    "# Anahtar oluşturma\n",
    "key = Fernet.generate_key()\n",
    "\n",
    "# Anahtarı dosyaya yazma\n",
    "with open('key.key', 'wb') as key_file:\n",
    "    key_file.write(key)\n",
    "\n",
    "# Veriyi şifreleme ve dosyaya yazma\n",
    "def encrypt_and_write_vote(vote):\n",
    "    cipher = Fernet(key)\n",
    "    encrypted_vote = cipher.encrypt(vote.encode())\n",
    "    with open('votes.txt', 'ab') as file:\n",
    "        file.write(encrypted_vote)\n",
    "        file.write(b'\\n')\n",
    "\n",
    "# Kullanıcıların oy vermesi\n",
    "while True:\n",
    "    vote = input(\"Lütfen oy vermek için bir parti seçin (x,y,z): \")\n",
    "    if vote not in ['x', 'y', 'z']:\n",
    "        print(\"Lütfen geçerli bir parti seçin.\")\n",
    "        continue\n",
    "    else:\n",
    "        break\n",
    "    encrypt_and_write_vote(vote)\n",
    "    print(\"Oyunuz kaydedildi.\")"
   ]
  }
 ],
 "metadata": {
  "kernelspec": {
   "display_name": "Python 3",
   "language": "python",
   "name": "python3"
  },
  "language_info": {
   "codemirror_mode": {
    "name": "ipython",
    "version": 3
   },
   "file_extension": ".py",
   "mimetype": "text/x-python",
   "name": "python",
   "nbconvert_exporter": "python",
   "pygments_lexer": "ipython3",
   "version": "3.11.1"
  },
  "orig_nbformat": 4
 },
 "nbformat": 4,
 "nbformat_minor": 2
}
