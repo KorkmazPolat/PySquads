{
 "cells": [
  {
   "cell_type": "code",
   "execution_count": 3,
   "metadata": {},
   "outputs": [
    {
     "name": "stdout",
     "output_type": "stream",
     "text": [
      "Defaulting to user installation because normal site-packages is not writeable\n",
      "Requirement already satisfied: cryptography in c:\\users\\polat\\appdata\\roaming\\python\\python310\\site-packages (40.0.2)\n",
      "Requirement already satisfied: cffi>=1.12 in c:\\program files\\python310\\lib\\site-packages (from cryptography) (1.15.1)\n",
      "Requirement already satisfied: pycparser in c:\\program files\\python310\\lib\\site-packages (from cffi>=1.12->cryptography) (2.21)\n",
      "Note: you may need to restart the kernel to use updated packages.\n"
     ]
    },
    {
     "name": "stderr",
     "output_type": "stream",
     "text": [
      "\n",
      "[notice] A new release of pip is available: 23.1 -> 23.1.2\n",
      "[notice] To update, run: python.exe -m pip install --upgrade pip\n"
     ]
    }
   ],
   "source": [
    "pip install cryptography"
   ]
  },
  {
   "cell_type": "code",
   "execution_count": 6,
   "metadata": {},
   "outputs": [
    {
     "name": "stdout",
     "output_type": "stream",
     "text": [
      "Decoded user data: a\n"
     ]
    }
   ],
   "source": [
    "\n",
    "#Base64 kullanarak yolu\n",
    "import base64\n",
    "\n",
    "user_data = input(\"Verinizi giriniz:\")\n",
    "encoded_data = base64.b64encode(bytes(user_data,\"utf-8\"))\n",
    "\n",
    "with open(\"encoded_data.txt\",\"wb\") as encoded_file:\n",
    "    encoded_file.write(encoded_data)\n",
    "\n",
    "\n",
    "#Decoding Part\n",
    "\n",
    "with open(\"encoded_data.txt\",\"rb\") as encoded_file:\n",
    "    encoded_data = encoded_file.read()\n",
    "\n",
    "decoded_data = base64.b64decode(encoded_data)\n",
    "user_data = decoded_data.decode(\"utf-8\")\n",
    "\n",
    "print(\"Decoded user data:\", user_data)"
   ]
  },
  {
   "cell_type": "code",
   "execution_count": 10,
   "metadata": {},
   "outputs": [],
   "source": [
    "#sha256 kullanarak(Selamlar satoshi!!)\n",
    "import hashlib\n",
    "\n",
    "user_data = input(\"Enter your data:\")\n",
    "\n",
    "hash_object = hashlib.sha256(bytes(user_data,\"utf-8\"))\n",
    "hash_value = hash_object.hexdigest()\n",
    "\n",
    "with open(\"hash_value.txt\",\"w\") as hash_file:\n",
    "    hash_file.write(hash_value)\n",
    "\n",
    "#---------------------------------------------------------\n"
   ]
  },
  {
   "cell_type": "code",
   "execution_count": 13,
   "metadata": {},
   "outputs": [
    {
     "name": "stdout",
     "output_type": "stream",
     "text": [
      "The data has been tampered with.\n"
     ]
    }
   ],
   "source": [
    "with open(\"hash_value.txt\",\"r\") as hash_file:\n",
    "    stored_has_value = hash_file.read()\n",
    "\n",
    "user_data = input(\"Enter your data:\")\n",
    "hash_object = hashlib.sha256(bytes(user_data,\"utf-8\"))\n",
    "hash_value = hash_object.hexdigest()\n",
    "\n",
    "if stored_has_value == hash_value:\n",
    "    print(\"The data has not been tampered with.\")\n",
    "else:\n",
    "    print(\"The data has been tampered with.\")"
   ]
  },
  {
   "cell_type": "code",
   "execution_count": 1,
   "metadata": {},
   "outputs": [],
   "source": [
    "from cryptography.fernet import Fernet\n",
    "\n",
    "# Anahtar oluşturma\n",
    "key = Fernet.generate_key()\n",
    "\n",
    "# Anahtarı dosyaya yazma\n",
    "with open('key.key', 'wb') as key_file:\n",
    "    key_file.write(key)\n",
    "\n",
    "# Veriyi şifreleme ve dosyaya yazma\n",
    "def encrypt_and_write_vote(vote):\n",
    "    cipher = Fernet(key)\n",
    "    encrypted_vote = cipher.encrypt(vote.encode())\n",
    "    with open('votes.txt', 'ab') as file:\n",
    "        file.write(encrypted_vote)\n",
    "        file.write(b'\\n')\n",
    "\n",
    "# Kullanıcıların oy vermesi\n",
    "while True:\n",
    "    vote = input(\"Lütfen oy vermek için bir parti seçin (x,y,z): \")\n",
    "    if vote not in ['x', 'y', 'z']:\n",
    "        print(\"Lütfen geçerli bir parti seçin.\")\n",
    "        continue\n",
    "    else:\n",
    "        break\n",
    "    encrypt_and_write_vote(vote)\n",
    "    print(\"Oyunuz kaydedildi.\")"
   ]
  }
 ],
 "metadata": {
  "kernelspec": {
   "display_name": "Python 3",
   "language": "python",
   "name": "python3"
  },
  "language_info": {
   "codemirror_mode": {
    "name": "ipython",
    "version": 3
   },
   "file_extension": ".py",
   "mimetype": "text/x-python",
   "name": "python",
   "nbconvert_exporter": "python",
   "pygments_lexer": "ipython3",
   "version": "3.10.7"
  },
  "orig_nbformat": 4
 },
 "nbformat": 4,
 "nbformat_minor": 2
}
